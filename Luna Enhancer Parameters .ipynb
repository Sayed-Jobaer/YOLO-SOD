{
 "cells": [
  {
   "cell_type": "code",
   "execution_count": null,
   "metadata": {},
   "outputs": [],
   "source": [
    "# image_enhancer.py\n",
    "from PIL import Image, ImageEnhance\n",
    "\n",
    "def calculate_brightness(image):\n",
    "    # Convert the image to grayscale\n",
    "    grayscale_image = image.convert('L')\n",
    "\n",
    "    # Calculate the average pixel value (brightness)\n",
    "    pixels = list(grayscale_image.getdata())\n",
    "    avg_brightness = sum(pixels) / len(pixels)\n",
    "\n",
    "    return avg_brightness\n",
    "\n",
    "def enhance_dark_images(image, brightness_factor=1.5, threshold=100):\n",
    "    # Calculate brightness of the image\n",
    "    brightness = calculate_brightness(image)\n",
    "\n",
    "    # Check if the image is dark (brightness below the threshold)\n",
    "    if brightness < threshold:\n",
    "        # Enhance brightness\n",
    "        enhancer = ImageEnhance.Brightness(image)\n",
    "        image = enhancer.enhance(brightness_factor)\n",
    "\n",
    "    return image"
   ]
  }
 ],
 "metadata": {
  "kernelspec": {
   "display_name": "Python 3",
   "language": "python",
   "name": "python3"
  },
  "language_info": {
   "codemirror_mode": {
    "name": "ipython",
    "version": 3
   },
   "file_extension": ".py",
   "mimetype": "text/x-python",
   "name": "python",
   "nbconvert_exporter": "python",
   "pygments_lexer": "ipython3",
   "version": "3.7.6"
  }
 },
 "nbformat": 4,
 "nbformat_minor": 4
}
